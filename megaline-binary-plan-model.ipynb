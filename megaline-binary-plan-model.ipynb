{
 "cells": [
  {
   "cell_type": "markdown",
   "metadata": {},
   "source": [
    "# Modelo predictivo para recomendación de planes en Megaline"
   ]
  },
  {
   "cell_type": "markdown",
   "metadata": {},
   "source": [
    "## Contenido\n",
    "\n",
    "* [Introducción](#intro)  \n",
    "* [1. Descripción y preparación de los datos](#data_review)\n",
    "* [2. Análisis exploratorio de los datos](#data_analysis)\n",
    "* [3. Segmentación de los datos para el entrenamiento del modelo](#data_segment)\n",
    "* [4. Exploración para elegir el modelo](#model_explore)\n",
    "    * [4.1. Exploración del modelo Decision Tree Classifier](#model_decision_tree)\n",
    "    * [4.2. Exploración del modelo Random Forest Classifier](#model_random_forest)\n",
    "    * [4.3. Exploración del modelo Logistic Regression](#model_logistic_regression)\n",
    "    * [4.4. Resultados y selección del modelo](#model_results)\n",
    "* [5. Predicción para los datos de prueba](#model_prediction)\n",
    "* [Conclusiones](#end)"
   ]
  },
  {
   "cell_type": "markdown",
   "metadata": {},
   "source": [
    "## Introducción <a id=\"intro\"></a>"
   ]
  },
  {
   "cell_type": "markdown",
   "metadata": {},
   "source": [
    "La compañía móvil Megaline no está satisfecha al ver que muchos de sus clientes utilizan planes heredados. Quieren desarrollar un modelo que pueda analizar el comportamiento de los clientes y recomendar uno de los nuevos planes de Megaline: Smart o Ultra.\n",
    "\n",
    "Para esta tarea de clasificación se creará un modelo que escoja el plan correcto. Se desarrollará un modelo con la mayor exactitud posible. En este proyecto, el umbral de exactitud es 0.75, usando el dataset para comprobar la exactitud.\n",
    "\n",
    "Cada observación en el dataset contiene información del comportamiento mensual sobre un usuario. La información dada es la siguiente:\n",
    "\n",
    "- сalls — número de llamadas.\n",
    "- minutes — duración total de la llamada en minutos.\n",
    "- messages — número de mensajes de texto.\n",
    "- mb_used — Tráfico de Internet utilizado en MB.\n",
    "- is_ultra — plan para el mes actual (Ultra - 1, Smart - 0)."
   ]
  },
  {
   "cell_type": "markdown",
   "metadata": {},
   "source": [
    "## 1. Descripción y preparación de los datos. <a id=\"data_review\"></a>"
   ]
  },
  {
   "cell_type": "code",
   "execution_count": 1,
   "metadata": {
    "trusted": true
   },
   "outputs": [],
   "source": [
    "# Importando las librerias necesarias.\n",
    "import pandas as pd\n",
    "import seaborn as sns\n",
    "import matplotlib.pyplot as plt\n",
    "from sklearn.model_selection import train_test_split\n",
    "from sklearn.metrics import accuracy_score\n",
    "from sklearn.tree import DecisionTreeClassifier\n",
    "from sklearn.ensemble import RandomForestClassifier\n",
    "from sklearn.linear_model import LogisticRegression"
   ]
  },
  {
   "cell_type": "code",
   "execution_count": null,
   "metadata": {
    "trusted": true
   },
   "outputs": [
    {
     "data": {
      "application/vnd.microsoft.datawrangler.viewer.v0+json": {
       "columns": [
        {
         "name": "index",
         "rawType": "int64",
         "type": "integer"
        },
        {
         "name": "calls",
         "rawType": "float64",
         "type": "float"
        },
        {
         "name": "minutes",
         "rawType": "float64",
         "type": "float"
        },
        {
         "name": "messages",
         "rawType": "float64",
         "type": "float"
        },
        {
         "name": "mb_used",
         "rawType": "float64",
         "type": "float"
        },
        {
         "name": "is_ultra",
         "rawType": "int64",
         "type": "integer"
        }
       ],
       "ref": "27e21f67-62da-4a89-a506-d7adcfd72363",
       "rows": [
        [
         "0",
         "40.0",
         "311.8999999999999",
         "83.0",
         "19915.42",
         "0"
        ],
        [
         "1",
         "85.0",
         "516.75",
         "56.0",
         "22696.96",
         "0"
        ],
        [
         "2",
         "77.0",
         "467.6600000000001",
         "86.0",
         "21060.45",
         "0"
        ],
        [
         "3",
         "106.0",
         "745.53",
         "81.0",
         "8437.39",
         "1"
        ],
        [
         "4",
         "66.0",
         "418.74",
         "1.0",
         "14502.750000000002",
         "0"
        ]
       ],
       "shape": {
        "columns": 5,
        "rows": 5
       }
      },
      "text/html": [
       "<div>\n",
       "<style scoped>\n",
       "    .dataframe tbody tr th:only-of-type {\n",
       "        vertical-align: middle;\n",
       "    }\n",
       "\n",
       "    .dataframe tbody tr th {\n",
       "        vertical-align: top;\n",
       "    }\n",
       "\n",
       "    .dataframe thead th {\n",
       "        text-align: right;\n",
       "    }\n",
       "</style>\n",
       "<table border=\"1\" class=\"dataframe\">\n",
       "  <thead>\n",
       "    <tr style=\"text-align: right;\">\n",
       "      <th></th>\n",
       "      <th>calls</th>\n",
       "      <th>minutes</th>\n",
       "      <th>messages</th>\n",
       "      <th>mb_used</th>\n",
       "      <th>is_ultra</th>\n",
       "    </tr>\n",
       "  </thead>\n",
       "  <tbody>\n",
       "    <tr>\n",
       "      <th>0</th>\n",
       "      <td>40.0</td>\n",
       "      <td>311.90</td>\n",
       "      <td>83.0</td>\n",
       "      <td>19915.42</td>\n",
       "      <td>0</td>\n",
       "    </tr>\n",
       "    <tr>\n",
       "      <th>1</th>\n",
       "      <td>85.0</td>\n",
       "      <td>516.75</td>\n",
       "      <td>56.0</td>\n",
       "      <td>22696.96</td>\n",
       "      <td>0</td>\n",
       "    </tr>\n",
       "    <tr>\n",
       "      <th>2</th>\n",
       "      <td>77.0</td>\n",
       "      <td>467.66</td>\n",
       "      <td>86.0</td>\n",
       "      <td>21060.45</td>\n",
       "      <td>0</td>\n",
       "    </tr>\n",
       "    <tr>\n",
       "      <th>3</th>\n",
       "      <td>106.0</td>\n",
       "      <td>745.53</td>\n",
       "      <td>81.0</td>\n",
       "      <td>8437.39</td>\n",
       "      <td>1</td>\n",
       "    </tr>\n",
       "    <tr>\n",
       "      <th>4</th>\n",
       "      <td>66.0</td>\n",
       "      <td>418.74</td>\n",
       "      <td>1.0</td>\n",
       "      <td>14502.75</td>\n",
       "      <td>0</td>\n",
       "    </tr>\n",
       "  </tbody>\n",
       "</table>\n",
       "</div>"
      ],
      "text/plain": [
       "   calls  minutes  messages   mb_used  is_ultra\n",
       "0   40.0   311.90      83.0  19915.42         0\n",
       "1   85.0   516.75      56.0  22696.96         0\n",
       "2   77.0   467.66      86.0  21060.45         0\n",
       "3  106.0   745.53      81.0   8437.39         1\n",
       "4   66.0   418.74       1.0  14502.75         0"
      ]
     },
     "execution_count": 3,
     "metadata": {},
     "output_type": "execute_result"
    }
   ],
   "source": [
    "# Traer los datos del dataset y observar su contenido.\n",
    "df = pd.read_csv('/datasets/users_behavior.csv')\n",
    "df.head()"
   ]
  },
  {
   "cell_type": "code",
   "execution_count": 4,
   "metadata": {
    "trusted": true
   },
   "outputs": [
    {
     "name": "stdout",
     "output_type": "stream",
     "text": [
      "<class 'pandas.core.frame.DataFrame'>\n",
      "RangeIndex: 3214 entries, 0 to 3213\n",
      "Data columns (total 5 columns):\n",
      " #   Column    Non-Null Count  Dtype  \n",
      "---  ------    --------------  -----  \n",
      " 0   calls     3214 non-null   float64\n",
      " 1   minutes   3214 non-null   float64\n",
      " 2   messages  3214 non-null   float64\n",
      " 3   mb_used   3214 non-null   float64\n",
      " 4   is_ultra  3214 non-null   int64  \n",
      "dtypes: float64(4), int64(1)\n",
      "memory usage: 125.7 KB\n"
     ]
    }
   ],
   "source": [
    "# Descripción del dataset y sus columnas.\n",
    "df.info()"
   ]
  },
  {
   "cell_type": "markdown",
   "metadata": {},
   "source": [
    "Los datos no presentan valores nulos y el tipo de cada columna es el correcto para la creación del modelo de clasificación."
   ]
  },
  {
   "cell_type": "code",
   "execution_count": 5,
   "metadata": {
    "scrolled": true,
    "trusted": true
   },
   "outputs": [
    {
     "data": {
      "application/vnd.microsoft.datawrangler.viewer.v0+json": {
       "columns": [
        {
         "name": "index",
         "rawType": "object",
         "type": "string"
        },
        {
         "name": "calls",
         "rawType": "float64",
         "type": "float"
        },
        {
         "name": "minutes",
         "rawType": "float64",
         "type": "float"
        },
        {
         "name": "messages",
         "rawType": "float64",
         "type": "float"
        },
        {
         "name": "mb_used",
         "rawType": "float64",
         "type": "float"
        },
        {
         "name": "is_ultra",
         "rawType": "float64",
         "type": "float"
        }
       ],
       "ref": "cd41e6a7-3b52-4c99-80e0-ab1cbd6b1d74",
       "rows": [
        [
         "count",
         "3214.0",
         "3214.0",
         "3214.0",
         "3214.0",
         "3214.0"
        ],
        [
         "mean",
         "63.03889234598631",
         "438.20878655880523",
         "38.28126944617299",
         "17207.673836341008",
         "0.30647168637212197"
        ],
        [
         "std",
         "33.2363675474435",
         "234.5698721733563",
         "36.14832557358982",
         "7570.968246251093",
         "0.46109971150909324"
        ],
        [
         "min",
         "0.0",
         "0.0",
         "0.0",
         "0.0",
         "0.0"
        ],
        [
         "25%",
         "40.0",
         "274.57500000000005",
         "9.0",
         "12491.902500000004",
         "0.0"
        ],
        [
         "50%",
         "62.0",
         "430.5999999999999",
         "30.0",
         "16943.235",
         "0.0"
        ],
        [
         "75%",
         "82.0",
         "571.9274999999999",
         "57.0",
         "21424.69999999999",
         "1.0"
        ],
        [
         "max",
         "244.0",
         "1632.0600000000004",
         "224.0",
         "49745.73000000001",
         "1.0"
        ]
       ],
       "shape": {
        "columns": 5,
        "rows": 8
       }
      },
      "text/html": [
       "<div>\n",
       "<style scoped>\n",
       "    .dataframe tbody tr th:only-of-type {\n",
       "        vertical-align: middle;\n",
       "    }\n",
       "\n",
       "    .dataframe tbody tr th {\n",
       "        vertical-align: top;\n",
       "    }\n",
       "\n",
       "    .dataframe thead th {\n",
       "        text-align: right;\n",
       "    }\n",
       "</style>\n",
       "<table border=\"1\" class=\"dataframe\">\n",
       "  <thead>\n",
       "    <tr style=\"text-align: right;\">\n",
       "      <th></th>\n",
       "      <th>calls</th>\n",
       "      <th>minutes</th>\n",
       "      <th>messages</th>\n",
       "      <th>mb_used</th>\n",
       "      <th>is_ultra</th>\n",
       "    </tr>\n",
       "  </thead>\n",
       "  <tbody>\n",
       "    <tr>\n",
       "      <th>count</th>\n",
       "      <td>3214.000000</td>\n",
       "      <td>3214.000000</td>\n",
       "      <td>3214.000000</td>\n",
       "      <td>3214.000000</td>\n",
       "      <td>3214.000000</td>\n",
       "    </tr>\n",
       "    <tr>\n",
       "      <th>mean</th>\n",
       "      <td>63.038892</td>\n",
       "      <td>438.208787</td>\n",
       "      <td>38.281269</td>\n",
       "      <td>17207.673836</td>\n",
       "      <td>0.306472</td>\n",
       "    </tr>\n",
       "    <tr>\n",
       "      <th>std</th>\n",
       "      <td>33.236368</td>\n",
       "      <td>234.569872</td>\n",
       "      <td>36.148326</td>\n",
       "      <td>7570.968246</td>\n",
       "      <td>0.461100</td>\n",
       "    </tr>\n",
       "    <tr>\n",
       "      <th>min</th>\n",
       "      <td>0.000000</td>\n",
       "      <td>0.000000</td>\n",
       "      <td>0.000000</td>\n",
       "      <td>0.000000</td>\n",
       "      <td>0.000000</td>\n",
       "    </tr>\n",
       "    <tr>\n",
       "      <th>25%</th>\n",
       "      <td>40.000000</td>\n",
       "      <td>274.575000</td>\n",
       "      <td>9.000000</td>\n",
       "      <td>12491.902500</td>\n",
       "      <td>0.000000</td>\n",
       "    </tr>\n",
       "    <tr>\n",
       "      <th>50%</th>\n",
       "      <td>62.000000</td>\n",
       "      <td>430.600000</td>\n",
       "      <td>30.000000</td>\n",
       "      <td>16943.235000</td>\n",
       "      <td>0.000000</td>\n",
       "    </tr>\n",
       "    <tr>\n",
       "      <th>75%</th>\n",
       "      <td>82.000000</td>\n",
       "      <td>571.927500</td>\n",
       "      <td>57.000000</td>\n",
       "      <td>21424.700000</td>\n",
       "      <td>1.000000</td>\n",
       "    </tr>\n",
       "    <tr>\n",
       "      <th>max</th>\n",
       "      <td>244.000000</td>\n",
       "      <td>1632.060000</td>\n",
       "      <td>224.000000</td>\n",
       "      <td>49745.730000</td>\n",
       "      <td>1.000000</td>\n",
       "    </tr>\n",
       "  </tbody>\n",
       "</table>\n",
       "</div>"
      ],
      "text/plain": [
       "             calls      minutes     messages       mb_used     is_ultra\n",
       "count  3214.000000  3214.000000  3214.000000   3214.000000  3214.000000\n",
       "mean     63.038892   438.208787    38.281269  17207.673836     0.306472\n",
       "std      33.236368   234.569872    36.148326   7570.968246     0.461100\n",
       "min       0.000000     0.000000     0.000000      0.000000     0.000000\n",
       "25%      40.000000   274.575000     9.000000  12491.902500     0.000000\n",
       "50%      62.000000   430.600000    30.000000  16943.235000     0.000000\n",
       "75%      82.000000   571.927500    57.000000  21424.700000     1.000000\n",
       "max     244.000000  1632.060000   224.000000  49745.730000     1.000000"
      ]
     },
     "execution_count": 5,
     "metadata": {},
     "output_type": "execute_result"
    }
   ],
   "source": [
    "# Estadisticas descriptivas del dataset.\n",
    "df.describe()"
   ]
  },
  {
   "cell_type": "markdown",
   "metadata": {},
   "source": [
    "También observando las estadísticas descriptivas, estas muestran datos coherentes para cada columna."
   ]
  },
  {
   "cell_type": "markdown",
   "metadata": {},
   "source": [
    "## 2. Análisis exploratorio de los datos. <a id=\"data_analysis\"></a>"
   ]
  },
  {
   "cell_type": "markdown",
   "metadata": {},
   "source": [
    "Ya que el objetivo no es realizar un análisis exploratorio exhaustivo, se ha realizado un análisis básico de las variables del dataset, en donde revisaremos su distribución. Primero revisaremos la cantidad de usuarios en cada plan."
   ]
  },
  {
   "cell_type": "code",
   "execution_count": 75,
   "metadata": {},
   "outputs": [
    {
     "data": {
      "image/png": "[encoded data removed]",
      "text/plain": [
       "<Figure size 600x400 with 1 Axes>"
      ]
     },
     "metadata": {},
     "output_type": "display_data"
    }
   ],
   "source": [
    "# Prepara los datos para la visualización.\n",
    "counts = df['is_ultra'].value_counts().reset_index()\n",
    "counts.columns = ['Plan', 'Cantidad']\n",
    "\n",
    "# Elegir el estilo\n",
    "color_palette = sns.color_palette(\"Set2\", n_colors=2)\n",
    "sns.set_theme(style=\"whitegrid\")\n",
    "\n",
    "# Graficar la distribución de los planes 'is_ultra'\n",
    "plt.figure(figsize=(6, 4))\n",
    "ax = sns.barplot(\n",
    "    data=counts, \n",
    "    x='Plan', \n",
    "    y='Cantidad', \n",
    "    hue='Plan',              \n",
    "    palette=color_palette,             \n",
    "    legend=False,\n",
    "    errorbar=None\n",
    ")\n",
    "\n",
    "# Etiquetas en las barras\n",
    "for p in ax.patches:\n",
    "    ax.annotate(f'{int(p.get_height())}', \n",
    "                (p.get_x() + p.get_width() / 2, p.get_height()), \n",
    "                ha='center', va='bottom', fontsize=10)\n",
    "\n",
    "# Configurando el título y las etiquetas\n",
    "ax.set_title(\"Distribución de planes\", fontsize=14, fontweight='bold', pad=15)\n",
    "ax.set_xlabel(\"Tipo de plan\", fontsize=12)\n",
    "ax.set_xticks([0, 1])\n",
    "ax.set_xticklabels(['Smart', 'Ultra'])\n",
    "ax.set_ylabel(\"Cantidad de usuarios\", fontsize=12)\n",
    "sns.despine()\n",
    "plt.tight_layout()\n",
    "plt.show()\n"
   ]
  },
  {
   "cell_type": "markdown",
   "metadata": {},
   "source": [
    "El 69% de los usuarios están en el plan Smart, mientras que el 31% están en el plan Ultra. Esto indica que la mayoría de los usuarios prefieren el plan Smart. Es posible considerar un desbalance de clases, sin embargo, realizaremos el estudio para definir el modelo y, si es suficiente para superar el umbral del 75% de exactitud, se dejará esta tarea a futuras mejoras del proyecto. Continuemos revisando la distribución de las demás columnas en los datos."
   ]
  },
  {
   "cell_type": "code",
   "execution_count": null,
   "metadata": {},
   "outputs": [
    {
     "data": {
      "image/png": "[encoded data removed]",
      "text/plain": [
       "<Figure size 1200x1000 with 4 Axes>"
      ]
     },
     "metadata": {},
     "output_type": "display_data"
    }
   ],
   "source": [
    "# Configuración general\n",
    "sns.set_style(\"whitegrid\")\n",
    "sns.set_context(\"notebook\", font_scale=1.1)\n",
    "palette = sns.color_palette('muted', n_colors=4)\n",
    "\n",
    "# Columnas a graficar\n",
    "columns = ['calls', 'minutes', 'messages', 'mb_used']\n",
    "labels = ['Número de llamadas', 'Minutos', 'Mensajes', 'Datos (MB)']\n",
    "plan_series = df['is_ultra'].map({0: 'Smart', 1: 'Ultra'})\n",
    "plan_series.name = 'Tipo de plan'\n",
    "\n",
    "# Crear figura\n",
    "fig, axes = plt.subplots(2, 2, figsize=(12, 10))\n",
    "axes = axes.flatten()\n",
    "\n",
    "# Iterar por las columnas y graficar\n",
    "for i, col in enumerate(columns):\n",
    "    sns.histplot(data=df, x=col, bins=30, ax=axes[i], kde=True, hue=plan_series, color=palette[i], alpha=0.7, legend=True)\n",
    "\n",
    "    # Títulos descriptivos\n",
    "    axes[i].set_title(f'Distribución de \"{col}\"', fontsize=13, fontweight='bold', pad=12)\n",
    "    axes[i].set_xlabel(labels[i], fontsize=11)\n",
    "    axes[i].set_ylabel('Frecuencia', fontsize=11)\n",
    "    \n",
    "    # Quitar bordes superiores y derechos\n",
    "    sns.despine(ax=axes[i])\n",
    "\n",
    "# Espaciado entre subplots\n",
    "plt.tight_layout(h_pad=3.0, w_pad=2.0)\n",
    "plt.show()\n"
   ]
  },
  {
   "cell_type": "markdown",
   "metadata": {},
   "source": [
    "Se realizó un análisis exploratorio de los datos para entender mejor la distribución de las variables separadas por tipo de plan. El comportamiento de los usuarios Smart en todas las variables sigue una distribución normal, mientras que los usuarios Ultra tienen una distribución sesgada a la derecha. Esto indica que los usuarios Ultra tienden a utilizar más minutos, mensajes y tráfico de Internet en comparación con los usuarios Smart."
   ]
  },
  {
   "cell_type": "markdown",
   "metadata": {},
   "source": [
    "## 3. Segmentación de los datos para el entrenamiento del modelo. <a id=\"data_segment\"></a>"
   ]
  },
  {
   "cell_type": "markdown",
   "metadata": {},
   "source": [
    "Para entrenar el modelo requeriremos segmentar los datos en tres grupos: datos para el entrenamiento (60% de las observaciones), datos para la validación (20% de las observaciones) y datos para la prueba del modelo (20% de las observaciones)."
   ]
  },
  {
   "cell_type": "code",
   "execution_count": 5,
   "metadata": {
    "trusted": true
   },
   "outputs": [],
   "source": [
    "# Separación del grupo para el entrenamiento.\n",
    "train_df, valid_df = train_test_split(df, test_size = 0.4, random_state = 12345)\n",
    "\n",
    "# Separación del grupo para el la validación y las pruebas.\n",
    "valid_df, test_df = train_test_split(valid_df, test_size = 0.5, random_state = 12345)"
   ]
  },
  {
   "cell_type": "code",
   "execution_count": 6,
   "metadata": {
    "trusted": true
   },
   "outputs": [
    {
     "data": {
      "text/html": [
       "<div>\n",
       "<style scoped>\n",
       "    .dataframe tbody tr th:only-of-type {\n",
       "        vertical-align: middle;\n",
       "    }\n",
       "\n",
       "    .dataframe tbody tr th {\n",
       "        vertical-align: top;\n",
       "    }\n",
       "\n",
       "    .dataframe thead th {\n",
       "        text-align: right;\n",
       "    }\n",
       "</style>\n",
       "<table border=\"1\" class=\"dataframe\">\n",
       "  <thead>\n",
       "    <tr style=\"text-align: right;\">\n",
       "      <th></th>\n",
       "      <th>calls</th>\n",
       "      <th>minutes</th>\n",
       "      <th>messages</th>\n",
       "      <th>mb_used</th>\n",
       "      <th>is_ultra</th>\n",
       "    </tr>\n",
       "  </thead>\n",
       "  <tbody>\n",
       "    <tr>\n",
       "      <th>3027</th>\n",
       "      <td>60.0</td>\n",
       "      <td>431.56</td>\n",
       "      <td>26.0</td>\n",
       "      <td>14751.26</td>\n",
       "      <td>0</td>\n",
       "    </tr>\n",
       "    <tr>\n",
       "      <th>434</th>\n",
       "      <td>33.0</td>\n",
       "      <td>265.17</td>\n",
       "      <td>59.0</td>\n",
       "      <td>17398.02</td>\n",
       "      <td>0</td>\n",
       "    </tr>\n",
       "    <tr>\n",
       "      <th>1226</th>\n",
       "      <td>52.0</td>\n",
       "      <td>341.83</td>\n",
       "      <td>68.0</td>\n",
       "      <td>15462.38</td>\n",
       "      <td>0</td>\n",
       "    </tr>\n",
       "    <tr>\n",
       "      <th>1054</th>\n",
       "      <td>42.0</td>\n",
       "      <td>226.18</td>\n",
       "      <td>21.0</td>\n",
       "      <td>13243.48</td>\n",
       "      <td>0</td>\n",
       "    </tr>\n",
       "    <tr>\n",
       "      <th>1842</th>\n",
       "      <td>30.0</td>\n",
       "      <td>198.42</td>\n",
       "      <td>0.0</td>\n",
       "      <td>8189.53</td>\n",
       "      <td>0</td>\n",
       "    </tr>\n",
       "    <tr>\n",
       "      <th>...</th>\n",
       "      <td>...</td>\n",
       "      <td>...</td>\n",
       "      <td>...</td>\n",
       "      <td>...</td>\n",
       "      <td>...</td>\n",
       "    </tr>\n",
       "    <tr>\n",
       "      <th>2817</th>\n",
       "      <td>12.0</td>\n",
       "      <td>86.62</td>\n",
       "      <td>22.0</td>\n",
       "      <td>36628.85</td>\n",
       "      <td>1</td>\n",
       "    </tr>\n",
       "    <tr>\n",
       "      <th>546</th>\n",
       "      <td>65.0</td>\n",
       "      <td>458.46</td>\n",
       "      <td>0.0</td>\n",
       "      <td>15214.25</td>\n",
       "      <td>1</td>\n",
       "    </tr>\n",
       "    <tr>\n",
       "      <th>382</th>\n",
       "      <td>144.0</td>\n",
       "      <td>906.18</td>\n",
       "      <td>0.0</td>\n",
       "      <td>25002.44</td>\n",
       "      <td>1</td>\n",
       "    </tr>\n",
       "    <tr>\n",
       "      <th>2177</th>\n",
       "      <td>38.0</td>\n",
       "      <td>301.27</td>\n",
       "      <td>37.0</td>\n",
       "      <td>28914.24</td>\n",
       "      <td>1</td>\n",
       "    </tr>\n",
       "    <tr>\n",
       "      <th>482</th>\n",
       "      <td>160.0</td>\n",
       "      <td>1084.05</td>\n",
       "      <td>95.0</td>\n",
       "      <td>36843.92</td>\n",
       "      <td>1</td>\n",
       "    </tr>\n",
       "  </tbody>\n",
       "</table>\n",
       "<p>1928 rows × 5 columns</p>\n",
       "</div>"
      ],
      "text/plain": [
       "      calls  minutes  messages   mb_used  is_ultra\n",
       "3027   60.0   431.56      26.0  14751.26         0\n",
       "434    33.0   265.17      59.0  17398.02         0\n",
       "1226   52.0   341.83      68.0  15462.38         0\n",
       "1054   42.0   226.18      21.0  13243.48         0\n",
       "1842   30.0   198.42       0.0   8189.53         0\n",
       "...     ...      ...       ...       ...       ...\n",
       "2817   12.0    86.62      22.0  36628.85         1\n",
       "546    65.0   458.46       0.0  15214.25         1\n",
       "382   144.0   906.18       0.0  25002.44         1\n",
       "2177   38.0   301.27      37.0  28914.24         1\n",
       "482   160.0  1084.05      95.0  36843.92         1\n",
       "\n",
       "[1928 rows x 5 columns]"
      ]
     },
     "execution_count": 6,
     "metadata": {},
     "output_type": "execute_result"
    }
   ],
   "source": [
    "# Dataset de entrenamiento.\n",
    "train_df"
   ]
  },
  {
   "cell_type": "code",
   "execution_count": 7,
   "metadata": {
    "trusted": true
   },
   "outputs": [
    {
     "data": {
      "text/html": [
       "<div>\n",
       "<style scoped>\n",
       "    .dataframe tbody tr th:only-of-type {\n",
       "        vertical-align: middle;\n",
       "    }\n",
       "\n",
       "    .dataframe tbody tr th {\n",
       "        vertical-align: top;\n",
       "    }\n",
       "\n",
       "    .dataframe thead th {\n",
       "        text-align: right;\n",
       "    }\n",
       "</style>\n",
       "<table border=\"1\" class=\"dataframe\">\n",
       "  <thead>\n",
       "    <tr style=\"text-align: right;\">\n",
       "      <th></th>\n",
       "      <th>calls</th>\n",
       "      <th>minutes</th>\n",
       "      <th>messages</th>\n",
       "      <th>mb_used</th>\n",
       "      <th>is_ultra</th>\n",
       "    </tr>\n",
       "  </thead>\n",
       "  <tbody>\n",
       "    <tr>\n",
       "      <th>1386</th>\n",
       "      <td>92.0</td>\n",
       "      <td>536.96</td>\n",
       "      <td>18.0</td>\n",
       "      <td>20193.90</td>\n",
       "      <td>0</td>\n",
       "    </tr>\n",
       "    <tr>\n",
       "      <th>3124</th>\n",
       "      <td>40.0</td>\n",
       "      <td>286.57</td>\n",
       "      <td>17.0</td>\n",
       "      <td>17918.75</td>\n",
       "      <td>0</td>\n",
       "    </tr>\n",
       "    <tr>\n",
       "      <th>1956</th>\n",
       "      <td>81.0</td>\n",
       "      <td>531.22</td>\n",
       "      <td>56.0</td>\n",
       "      <td>17755.06</td>\n",
       "      <td>0</td>\n",
       "    </tr>\n",
       "    <tr>\n",
       "      <th>2286</th>\n",
       "      <td>67.0</td>\n",
       "      <td>460.76</td>\n",
       "      <td>27.0</td>\n",
       "      <td>16626.26</td>\n",
       "      <td>0</td>\n",
       "    </tr>\n",
       "    <tr>\n",
       "      <th>3077</th>\n",
       "      <td>22.0</td>\n",
       "      <td>120.09</td>\n",
       "      <td>16.0</td>\n",
       "      <td>9039.57</td>\n",
       "      <td>0</td>\n",
       "    </tr>\n",
       "    <tr>\n",
       "      <th>...</th>\n",
       "      <td>...</td>\n",
       "      <td>...</td>\n",
       "      <td>...</td>\n",
       "      <td>...</td>\n",
       "      <td>...</td>\n",
       "    </tr>\n",
       "    <tr>\n",
       "      <th>1999</th>\n",
       "      <td>56.0</td>\n",
       "      <td>398.45</td>\n",
       "      <td>4.0</td>\n",
       "      <td>23682.94</td>\n",
       "      <td>0</td>\n",
       "    </tr>\n",
       "    <tr>\n",
       "      <th>1023</th>\n",
       "      <td>76.0</td>\n",
       "      <td>601.10</td>\n",
       "      <td>0.0</td>\n",
       "      <td>17104.36</td>\n",
       "      <td>0</td>\n",
       "    </tr>\n",
       "    <tr>\n",
       "      <th>748</th>\n",
       "      <td>81.0</td>\n",
       "      <td>525.97</td>\n",
       "      <td>15.0</td>\n",
       "      <td>18878.91</td>\n",
       "      <td>0</td>\n",
       "    </tr>\n",
       "    <tr>\n",
       "      <th>1667</th>\n",
       "      <td>10.0</td>\n",
       "      <td>63.03</td>\n",
       "      <td>0.0</td>\n",
       "      <td>2568.00</td>\n",
       "      <td>1</td>\n",
       "    </tr>\n",
       "    <tr>\n",
       "      <th>3197</th>\n",
       "      <td>89.0</td>\n",
       "      <td>660.72</td>\n",
       "      <td>68.0</td>\n",
       "      <td>11711.54</td>\n",
       "      <td>0</td>\n",
       "    </tr>\n",
       "  </tbody>\n",
       "</table>\n",
       "<p>643 rows × 5 columns</p>\n",
       "</div>"
      ],
      "text/plain": [
       "      calls  minutes  messages   mb_used  is_ultra\n",
       "1386   92.0   536.96      18.0  20193.90         0\n",
       "3124   40.0   286.57      17.0  17918.75         0\n",
       "1956   81.0   531.22      56.0  17755.06         0\n",
       "2286   67.0   460.76      27.0  16626.26         0\n",
       "3077   22.0   120.09      16.0   9039.57         0\n",
       "...     ...      ...       ...       ...       ...\n",
       "1999   56.0   398.45       4.0  23682.94         0\n",
       "1023   76.0   601.10       0.0  17104.36         0\n",
       "748    81.0   525.97      15.0  18878.91         0\n",
       "1667   10.0    63.03       0.0   2568.00         1\n",
       "3197   89.0   660.72      68.0  11711.54         0\n",
       "\n",
       "[643 rows x 5 columns]"
      ]
     },
     "execution_count": 7,
     "metadata": {},
     "output_type": "execute_result"
    }
   ],
   "source": [
    "# Dataset de validación.\n",
    "valid_df"
   ]
  },
  {
   "cell_type": "code",
   "execution_count": 8,
   "metadata": {
    "scrolled": false,
    "trusted": true
   },
   "outputs": [
    {
     "data": {
      "text/html": [
       "<div>\n",
       "<style scoped>\n",
       "    .dataframe tbody tr th:only-of-type {\n",
       "        vertical-align: middle;\n",
       "    }\n",
       "\n",
       "    .dataframe tbody tr th {\n",
       "        vertical-align: top;\n",
       "    }\n",
       "\n",
       "    .dataframe thead th {\n",
       "        text-align: right;\n",
       "    }\n",
       "</style>\n",
       "<table border=\"1\" class=\"dataframe\">\n",
       "  <thead>\n",
       "    <tr style=\"text-align: right;\">\n",
       "      <th></th>\n",
       "      <th>calls</th>\n",
       "      <th>minutes</th>\n",
       "      <th>messages</th>\n",
       "      <th>mb_used</th>\n",
       "      <th>is_ultra</th>\n",
       "    </tr>\n",
       "  </thead>\n",
       "  <tbody>\n",
       "    <tr>\n",
       "      <th>160</th>\n",
       "      <td>61.0</td>\n",
       "      <td>495.11</td>\n",
       "      <td>8.0</td>\n",
       "      <td>10891.23</td>\n",
       "      <td>0</td>\n",
       "    </tr>\n",
       "    <tr>\n",
       "      <th>2498</th>\n",
       "      <td>80.0</td>\n",
       "      <td>555.04</td>\n",
       "      <td>28.0</td>\n",
       "      <td>28083.58</td>\n",
       "      <td>0</td>\n",
       "    </tr>\n",
       "    <tr>\n",
       "      <th>1748</th>\n",
       "      <td>87.0</td>\n",
       "      <td>697.23</td>\n",
       "      <td>0.0</td>\n",
       "      <td>8335.70</td>\n",
       "      <td>0</td>\n",
       "    </tr>\n",
       "    <tr>\n",
       "      <th>1816</th>\n",
       "      <td>41.0</td>\n",
       "      <td>275.80</td>\n",
       "      <td>9.0</td>\n",
       "      <td>10032.39</td>\n",
       "      <td>0</td>\n",
       "    </tr>\n",
       "    <tr>\n",
       "      <th>1077</th>\n",
       "      <td>60.0</td>\n",
       "      <td>428.49</td>\n",
       "      <td>20.0</td>\n",
       "      <td>29389.52</td>\n",
       "      <td>1</td>\n",
       "    </tr>\n",
       "    <tr>\n",
       "      <th>...</th>\n",
       "      <td>...</td>\n",
       "      <td>...</td>\n",
       "      <td>...</td>\n",
       "      <td>...</td>\n",
       "      <td>...</td>\n",
       "    </tr>\n",
       "    <tr>\n",
       "      <th>2401</th>\n",
       "      <td>55.0</td>\n",
       "      <td>446.06</td>\n",
       "      <td>79.0</td>\n",
       "      <td>26526.28</td>\n",
       "      <td>0</td>\n",
       "    </tr>\n",
       "    <tr>\n",
       "      <th>2928</th>\n",
       "      <td>102.0</td>\n",
       "      <td>742.65</td>\n",
       "      <td>58.0</td>\n",
       "      <td>16089.24</td>\n",
       "      <td>1</td>\n",
       "    </tr>\n",
       "    <tr>\n",
       "      <th>1985</th>\n",
       "      <td>52.0</td>\n",
       "      <td>349.94</td>\n",
       "      <td>42.0</td>\n",
       "      <td>12150.72</td>\n",
       "      <td>0</td>\n",
       "    </tr>\n",
       "    <tr>\n",
       "      <th>357</th>\n",
       "      <td>39.0</td>\n",
       "      <td>221.18</td>\n",
       "      <td>59.0</td>\n",
       "      <td>17865.23</td>\n",
       "      <td>0</td>\n",
       "    </tr>\n",
       "    <tr>\n",
       "      <th>2313</th>\n",
       "      <td>40.0</td>\n",
       "      <td>301.03</td>\n",
       "      <td>102.0</td>\n",
       "      <td>6057.63</td>\n",
       "      <td>0</td>\n",
       "    </tr>\n",
       "  </tbody>\n",
       "</table>\n",
       "<p>643 rows × 5 columns</p>\n",
       "</div>"
      ],
      "text/plain": [
       "      calls  minutes  messages   mb_used  is_ultra\n",
       "160    61.0   495.11       8.0  10891.23         0\n",
       "2498   80.0   555.04      28.0  28083.58         0\n",
       "1748   87.0   697.23       0.0   8335.70         0\n",
       "1816   41.0   275.80       9.0  10032.39         0\n",
       "1077   60.0   428.49      20.0  29389.52         1\n",
       "...     ...      ...       ...       ...       ...\n",
       "2401   55.0   446.06      79.0  26526.28         0\n",
       "2928  102.0   742.65      58.0  16089.24         1\n",
       "1985   52.0   349.94      42.0  12150.72         0\n",
       "357    39.0   221.18      59.0  17865.23         0\n",
       "2313   40.0   301.03     102.0   6057.63         0\n",
       "\n",
       "[643 rows x 5 columns]"
      ]
     },
     "execution_count": 8,
     "metadata": {},
     "output_type": "execute_result"
    }
   ],
   "source": [
    "# Dataset de prueba.\n",
    "test_df"
   ]
  },
  {
   "cell_type": "markdown",
   "metadata": {},
   "source": [
    "## 4. Exploración para elegir el modelo. <a id=\"model_explore\"></a>"
   ]
  },
  {
   "cell_type": "markdown",
   "metadata": {},
   "source": [
    "Para poder definir el mejor modelo, realizaremos pruebas para 3 tipos de modelos:\n",
    "- Árbol de decisión.\n",
    "- Bosque aleatorio.\n",
    "- Regresión logística.\n",
    "\n",
    "Para iniciar las exploraciones, seleccionaremos las características y el objetivo para entrenar y validar nuestro modelo."
   ]
  },
  {
   "cell_type": "code",
   "execution_count": 9,
   "metadata": {
    "trusted": true
   },
   "outputs": [],
   "source": [
    "# Caracteristivas y objetivos del dataframe de entrenamiento.\n",
    "features_train = train_df.drop('is_ultra', axis=1)\n",
    "target_train = train_df['is_ultra']\n",
    "\n",
    "# Caracteristivas y objetivos del dataframe de validación.\n",
    "features_valid = valid_df.drop('is_ultra', axis=1)\n",
    "target_valid = valid_df['is_ultra']\n",
    "\n",
    "# Caracteristivas y objetivos del dataframe de prueba.\n",
    "features_test = test_df.drop('is_ultra', axis=1)\n",
    "target_test = test_df['is_ultra']"
   ]
  },
  {
   "cell_type": "markdown",
   "metadata": {},
   "source": [
    "### 4.1. Exploración del modelo Decision Tree Classifier. <a id=\"model_decision_tree\"></a>"
   ]
  },
  {
   "cell_type": "markdown",
   "metadata": {},
   "source": [
    "Definiremos una serie de árboles con profundidades de 1 a 10, para evaluar cuál tiene mejores resultados de exactitud en el dataset de validación."
   ]
  },
  {
   "cell_type": "code",
   "execution_count": 10,
   "metadata": {
    "trusted": true
   },
   "outputs": [
    {
     "name": "stdout",
     "output_type": "stream",
     "text": [
      "La exactitud del mejor modelo en el conjunto de validación (profundidad = 3): 0.7853810264385692\n"
     ]
    }
   ],
   "source": [
    "#DecisionTreeClassifier\n",
    "\n",
    "# Variables de resultados de exactitud.\n",
    "best_score = 0\n",
    "best_depth = 0\n",
    "\n",
    "# Evaluación de profundidad.\n",
    "for depth in range(1, 11):\n",
    "    model_dtc = DecisionTreeClassifier(random_state = 12345, max_depth = depth)\n",
    "    model_dtc.fit(features_train, target_train)\n",
    "    score = model_dtc.score(features_valid, target_valid)\n",
    "    if score > best_score:\n",
    "        best_score = score\n",
    "        best_depth = depth\n",
    "        \n",
    "# Imprimir el resultado\n",
    "print(\"La exactitud del mejor modelo en el conjunto de validación (profundidad = {}): {}\".format(best_depth, best_score))"
   ]
  },
  {
   "cell_type": "markdown",
   "metadata": {},
   "source": [
    "La conclusión de nuestra evaluación nos muestra que un árbol con profundidad de 3 es la mejor opción para este tipo de modelo, con una exactitud del 78.54%, lo suficiente para cumplir con nuestro umbral del 75%; sin embargo, podríamos observar mejores resultados en las próximas exploraciones."
   ]
  },
  {
   "cell_type": "markdown",
   "metadata": {},
   "source": [
    "### 4.2. Exploración del modelo Random Forest Classifier. <a id=\"model_random_forest\"></a>"
   ]
  },
  {
   "cell_type": "markdown",
   "metadata": {},
   "source": [
    "Para esta clase de modelo variaremos dos hiperparámetros en nuestra exploración: la cantidad de árboles del bosque y la profundidad máxima de estos. Para la primera variable utilizaremos valores de árboles totales 10, 20, 30, 40 y 50, mientras que para la profundidad máxima mantendremos la exploración de 1 a 10 niveles máximos."
   ]
  },
  {
   "cell_type": "code",
   "execution_count": 11,
   "metadata": {
    "trusted": true
   },
   "outputs": [
    {
     "name": "stdout",
     "output_type": "stream",
     "text": [
      "La exactitud del mejor modelo en el conjunto de validación: 0.8087091757387247 n_estimators: 40 best_depth: 8\n"
     ]
    }
   ],
   "source": [
    "#RandomForestClassifier\n",
    "\n",
    "# Variables de resultados de exactitud.\n",
    "best_score = 0\n",
    "best_est = 0\n",
    "best_depth = 0\n",
    "\n",
    "# Evaluación de estimadores y profundidad.\n",
    "for est in range(10, 51, 10):\n",
    "    for depth in range (1, 11):\n",
    "        model_rfc = RandomForestClassifier(random_state = 12345, n_estimators = est, max_depth= depth)\n",
    "        model_rfc.fit(features_train, target_train)        \n",
    "        score = model_rfc.score(features_valid, target_valid)\n",
    "        \n",
    "        if score > best_score:\n",
    "            best_score = score\n",
    "            best_depth = depth\n",
    "            best_est = est\n",
    "\n",
    "# Imprimir el resultado\n",
    "print(\"La exactitud del mejor modelo en el conjunto de validación:\", best_score, \"n_estimators:\", best_est, \"best_depth:\", best_depth)"
   ]
  },
  {
   "cell_type": "markdown",
   "metadata": {},
   "source": [
    "Los resultados nos muestran que un modelo con 40 árboles o estimadores cada uno con una profundidad máxima de 8 es la mejor opción. La exactitud que nos arroja es de 80.87%, la más alta hasta el momento."
   ]
  },
  {
   "cell_type": "markdown",
   "metadata": {},
   "source": [
    "### 4.3. Exploración del modelo Logistic Regression. <a id=\"model_logistic_regression\"></a>"
   ]
  },
  {
   "cell_type": "markdown",
   "metadata": {},
   "source": [
    "Finalmente, evaluaremos un modelo de regresión logística."
   ]
  },
  {
   "cell_type": "code",
   "execution_count": 12,
   "metadata": {
    "trusted": true
   },
   "outputs": [
    {
     "name": "stdout",
     "output_type": "stream",
     "text": [
      "La exactitud del modelo de regresión logística en el conjunto de validación: 0.7589424572317263\n"
     ]
    }
   ],
   "source": [
    "#LogisticRegression\n",
    "\n",
    "#Evaluación del modelo.\n",
    "model_lr = LogisticRegression(random_state=12345, solver='liblinear')\n",
    "model_lr.fit(features_train, target_train)\n",
    "\n",
    "score = model_lr.score(features_valid, target_valid) \n",
    "\n",
    "# Imprimir el resultado\n",
    "print(\"La exactitud del modelo de regresión logística en el conjunto de validación:\", score)"
   ]
  },
  {
   "cell_type": "markdown",
   "metadata": {},
   "source": [
    "La exactitud de este modelo nos muestra 75.89%, apenas suficiente para superar nuestro umbral del 75% pero siendo la más deficiente de nuestras tres exploraciones."
   ]
  },
  {
   "cell_type": "markdown",
   "metadata": {},
   "source": [
    "### 4.4. Resultados y selección del modelo. <a id=\"model_results\"></a>"
   ]
  },
  {
   "cell_type": "markdown",
   "metadata": {},
   "source": [
    "El modelo de bosque aleatorio mostró el mejor desempeño para el cálculo de la exactitud en las predicciones de nuestros datos de validación (80.87%), por lo que se utilizará este modelo con los valores de 40 estimadores y 8 en la profundidad máxima de los árboles para la predicción de las observaciones de prueba."
   ]
  },
  {
   "cell_type": "markdown",
   "metadata": {},
   "source": [
    "## 5. Predicción para los datos de prueba. <a id=\"model_prediction\"></a>"
   ]
  },
  {
   "cell_type": "markdown",
   "metadata": {},
   "source": [
    "Con nuestro modelo ya seleccionado, ahora utilizaremos un dataset más completo para entrenarlo y esperar que este mejore en sus predicciones, por lo que se usarán los datos de entrenamiento y validación para el nuevo entrenamiento y predicción de los datos de prueba."
   ]
  },
  {
   "cell_type": "code",
   "execution_count": 13,
   "metadata": {
    "trusted": true
   },
   "outputs": [],
   "source": [
    "# Integración de los datos de entranamiento con los de validación.\n",
    "train_df_full = pd.concat([train_df, valid_df])\n",
    "\n",
    "# Seleccion de las caracteristicas y los objetivos para el nuevo entrenamiento.\n",
    "features_train_full = train_df_full.drop('is_ultra', axis=1)\n",
    "target_train_full = train_df_full['is_ultra']"
   ]
  },
  {
   "cell_type": "code",
   "execution_count": 14,
   "metadata": {
    "trusted": true
   },
   "outputs": [
    {
     "name": "stdout",
     "output_type": "stream",
     "text": [
      "Conjunto de entrenamiento: 0.8619214313496694\n",
      "Conjunto de prueba: 0.7993779160186625\n"
     ]
    }
   ],
   "source": [
    "#RandomForestClassifier\n",
    "\n",
    "# Creación del modelo con los hiperparametros descritos en los resultados.\n",
    "model = RandomForestClassifier(random_state = 12345, n_estimators = 40, max_depth= 8)\n",
    "\n",
    "# Entrenamiento del modelo con el 80% de los datos.\n",
    "model.fit(features_train_full, target_train_full)\n",
    "\n",
    "# Predicciones para los datos de entrenamiento y de prueba.\n",
    "train_prediction = model.predict(features_train_full)\n",
    "test_prediction = model.predict(features_test)\n",
    "\n",
    "# Comparación y resultados.\n",
    "print(\"Conjunto de entrenamiento:\",accuracy_score(target_train_full, train_prediction))\n",
    "print(\"Conjunto de prueba:\",accuracy_score(target_test, test_prediction))"
   ]
  },
  {
   "cell_type": "markdown",
   "metadata": {},
   "source": [
    "## Conclusiones <a id=\"end\"></a>"
   ]
  },
  {
   "cell_type": "markdown",
   "metadata": {},
   "source": [
    "Los resultados para nuestro conjunto de prueba muestran una exactitud de 79.94%, algo ligeramente menor al obtenido con nuestro conjunto de validación, aun así demuestra un mejor desempeño que los demás modelos y se encuentra por encima de nuestro umbral de 75%, por lo que aceptaremos esta exactitud para esta solución.\n",
    "\n",
    "En cuanto a las predicciones con nuestro conjunto de entrenamiento observamos una precisión de 86.19%, lo que significa una diferencia de 6.25 puntos porcentuales, esto nos demuestra que pudiera existir un sobre ajuste muy ligero; sin embargo, no es significativo como para considerar que el modelo no funcionará para nuevas predicciones.\n",
    "\n",
    "También es importante mencionar que se pueden explorar los resultados del modelo ajustando un poco el ligero desbalance de clases, aunque no asegura una mejora en el mismo."
   ]
  }
 ],
 "metadata": {
  "ExecuteTimeLog": [
   {
    "duration": 352,
    "start_time": "2025-04-16T23:03:17.089Z"
   },
   {
    "duration": 21,
    "start_time": "2025-04-16T23:04:19.533Z"
   },
   {
    "duration": 11,
    "start_time": "2025-04-16T23:05:25.433Z"
   },
   {
    "duration": 20,
    "start_time": "2025-04-16T23:05:37.271Z"
   },
   {
    "duration": 481,
    "start_time": "2025-04-16T23:14:25.639Z"
   },
   {
    "duration": 6,
    "start_time": "2025-04-16T23:22:21.134Z"
   },
   {
    "duration": 12,
    "start_time": "2025-04-16T23:22:25.076Z"
   },
   {
    "duration": 11,
    "start_time": "2025-04-16T23:22:39.813Z"
   },
   {
    "duration": 10,
    "start_time": "2025-04-16T23:22:53.330Z"
   },
   {
    "duration": 6,
    "start_time": "2025-04-16T23:34:02.459Z"
   },
   {
    "duration": 223,
    "start_time": "2025-04-17T00:19:18.073Z"
   },
   {
    "duration": 28,
    "start_time": "2025-04-17T00:19:25.788Z"
   },
   {
    "duration": 56,
    "start_time": "2025-04-17T00:19:30.051Z"
   },
   {
    "duration": 137,
    "start_time": "2025-04-17T00:19:40.487Z"
   },
   {
    "duration": 828,
    "start_time": "2025-04-17T00:19:46.819Z"
   },
   {
    "duration": 55,
    "start_time": "2025-04-17T00:19:55.743Z"
   },
   {
    "duration": 9,
    "start_time": "2025-04-17T00:22:24.804Z"
   },
   {
    "duration": 27,
    "start_time": "2025-04-17T00:49:22.436Z"
   },
   {
    "duration": 2797,
    "start_time": "2025-04-17T00:50:06.053Z"
   },
   {
    "duration": 16,
    "start_time": "2025-04-17T01:02:47.671Z"
   },
   {
    "duration": 3,
    "start_time": "2025-04-17T01:02:53.049Z"
   },
   {
    "duration": 24,
    "start_time": "2025-04-17T01:02:56.303Z"
   },
   {
    "duration": 11,
    "start_time": "2025-04-17T01:02:59.909Z"
   },
   {
    "duration": 24269,
    "start_time": "2025-04-17T01:23:38.573Z"
   },
   {
    "duration": 805,
    "start_time": "2025-04-17T01:59:13.251Z"
   },
   {
    "duration": 19,
    "start_time": "2025-04-17T01:59:14.058Z"
   },
   {
    "duration": 8,
    "start_time": "2025-04-17T01:59:14.079Z"
   },
   {
    "duration": 16,
    "start_time": "2025-04-17T01:59:14.090Z"
   },
   {
    "duration": 19,
    "start_time": "2025-04-17T01:59:14.108Z"
   },
   {
    "duration": 10,
    "start_time": "2025-04-17T01:59:14.129Z"
   },
   {
    "duration": 14,
    "start_time": "2025-04-17T01:59:14.140Z"
   },
   {
    "duration": 10,
    "start_time": "2025-04-17T01:59:14.156Z"
   },
   {
    "duration": 4,
    "start_time": "2025-04-17T01:59:14.168Z"
   },
   {
    "duration": 80,
    "start_time": "2025-04-17T01:59:14.175Z"
   },
   {
    "duration": 2791,
    "start_time": "2025-04-17T01:59:14.257Z"
   },
   {
    "duration": 10,
    "start_time": "2025-04-17T01:59:17.050Z"
   },
   {
    "duration": 14,
    "start_time": "2025-04-17T01:59:17.061Z"
   },
   {
    "duration": 113,
    "start_time": "2025-04-17T01:59:17.076Z"
   },
   {
    "duration": 13,
    "start_time": "2025-04-17T01:59:45.169Z"
   },
   {
    "duration": 4,
    "start_time": "2025-04-17T02:11:00.320Z"
   },
   {
    "duration": 813,
    "start_time": "2025-04-17T02:15:58.009Z"
   },
   {
    "duration": 24,
    "start_time": "2025-04-17T02:15:58.825Z"
   },
   {
    "duration": 12,
    "start_time": "2025-04-17T02:15:58.851Z"
   },
   {
    "duration": 18,
    "start_time": "2025-04-17T02:15:58.866Z"
   },
   {
    "duration": 5,
    "start_time": "2025-04-17T02:15:58.887Z"
   },
   {
    "duration": 50,
    "start_time": "2025-04-17T02:15:58.894Z"
   },
   {
    "duration": 12,
    "start_time": "2025-04-17T02:15:58.946Z"
   },
   {
    "duration": 11,
    "start_time": "2025-04-17T02:15:58.960Z"
   },
   {
    "duration": 5,
    "start_time": "2025-04-17T02:15:58.973Z"
   },
   {
    "duration": 95,
    "start_time": "2025-04-17T02:15:58.980Z"
   },
   {
    "duration": 2947,
    "start_time": "2025-04-17T02:15:59.077Z"
   },
   {
    "duration": 12,
    "start_time": "2025-04-17T02:16:02.026Z"
   },
   {
    "duration": 4,
    "start_time": "2025-04-17T02:16:02.041Z"
   },
   {
    "duration": 379,
    "start_time": "2025-04-17T02:16:02.048Z"
   },
   {
    "duration": 157,
    "start_time": "2025-04-17T02:16:24.340Z"
   },
   {
    "duration": 123,
    "start_time": "2025-04-17T02:16:32.959Z"
   },
   {
    "duration": 15,
    "start_time": "2025-04-17T02:30:03.819Z"
   },
   {
    "duration": 832,
    "start_time": "2025-04-17T05:00:19.565Z"
   },
   {
    "duration": 23,
    "start_time": "2025-04-17T05:00:20.399Z"
   },
   {
    "duration": 9,
    "start_time": "2025-04-17T05:00:20.424Z"
   },
   {
    "duration": 23,
    "start_time": "2025-04-17T05:00:20.435Z"
   },
   {
    "duration": 5,
    "start_time": "2025-04-17T05:00:20.460Z"
   },
   {
    "duration": 10,
    "start_time": "2025-04-17T05:00:20.467Z"
   },
   {
    "duration": 9,
    "start_time": "2025-04-17T05:00:20.478Z"
   },
   {
    "duration": 9,
    "start_time": "2025-04-17T05:00:20.489Z"
   },
   {
    "duration": 6,
    "start_time": "2025-04-17T05:00:20.499Z"
   },
   {
    "duration": 90,
    "start_time": "2025-04-17T05:00:20.507Z"
   },
   {
    "duration": 2831,
    "start_time": "2025-04-17T05:00:20.599Z"
   },
   {
    "duration": 11,
    "start_time": "2025-04-17T05:00:23.433Z"
   },
   {
    "duration": 4,
    "start_time": "2025-04-17T05:00:23.446Z"
   },
   {
    "duration": 141,
    "start_time": "2025-04-17T05:00:23.453Z"
   }
  ],
  "kernelspec": {
   "display_name": "Python 3",
   "language": "python",
   "name": "python3"
  },
  "language_info": {
   "codemirror_mode": {
    "name": "ipython",
    "version": 3
   },
   "file_extension": ".py",
   "mimetype": "text/x-python",
   "name": "python",
   "nbconvert_exporter": "python",
   "pygments_lexer": "ipython3",
   "version": "3.12.8"
  },
  "toc": {
   "base_numbering": 1,
   "nav_menu": {},
   "number_sections": true,
   "sideBar": true,
   "skip_h1_title": true,
   "title_cell": "Table of Contents",
   "title_sidebar": "Contents",
   "toc_cell": false,
   "toc_position": {},
   "toc_section_display": true,
   "toc_window_display": false
  }
 },
 "nbformat": 4,
 "nbformat_minor": 2
}
